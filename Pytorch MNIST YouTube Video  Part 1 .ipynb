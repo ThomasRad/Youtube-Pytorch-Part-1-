{
 "cells": [
  {
   "cell_type": "markdown",
   "metadata": {},
   "source": [
    "### Just following along a Youtube tutorial trying to get more exposure with Pytorch. "
   ]
  },
  {
   "cell_type": "code",
   "execution_count": 3,
   "metadata": {},
   "outputs": [],
   "source": [
    "#just Import the packages we need for now\n",
    "\n",
    "import torch\n",
    "import torchvision\n",
    "from torchvision.datasets import MNIST"
   ]
  },
  {
   "cell_type": "code",
   "execution_count": 4,
   "metadata": {},
   "outputs": [],
   "source": [
    "# Download the data we need for now. \n",
    "\n",
    "dataset = MNIST(root = 'data/',download = True )"
   ]
  },
  {
   "cell_type": "code",
   "execution_count": 6,
   "metadata": {},
   "outputs": [
    {
     "data": {
      "text/plain": [
       "60000"
      ]
     },
     "execution_count": 6,
     "metadata": {},
     "output_type": "execute_result"
    }
   ],
   "source": [
    "# Check how many entries we have. \n",
    "\n",
    "len(dataset)"
   ]
  },
  {
   "cell_type": "code",
   "execution_count": 7,
   "metadata": {},
   "outputs": [
    {
     "data": {
      "text/plain": [
       "10000"
      ]
     },
     "execution_count": 7,
     "metadata": {},
     "output_type": "execute_result"
    }
   ],
   "source": [
    "# Let us break off a test dataset from the dataset we have.\n",
    "\n",
    "test_dataset = MNIST(root = 'data/',train = False)\n",
    "len(test_dataset)"
   ]
  },
  {
   "cell_type": "code",
   "execution_count": 8,
   "metadata": {},
   "outputs": [],
   "source": [
    "# We want to view our images, so import matplotlib \n",
    "\n",
    "import matplotlib.pyplot as plt\n",
    "%matplotlib inline "
   ]
  },
  {
   "cell_type": "code",
   "execution_count": 9,
   "metadata": {},
   "outputs": [
    {
     "name": "stdout",
     "output_type": "stream",
     "text": [
      "label: 5\n"
     ]
    },
    {
     "data": {
      "image/png": "[encoded data removed]",
      "text/plain": [
       "<Figure size 432x288 with 1 Axes>"
      ]
     },
     "metadata": {
      "needs_background": "light"
     },
     "output_type": "display_data"
    }
   ],
   "source": [
    "# Look at an entry in our dataset, and it's associated label.\n",
    "\n",
    "image, label = dataset[0]\n",
    "plt.imshow(image,cmap='gray')\n",
    "print('label:',label)"
   ]
  },
  {
   "cell_type": "code",
   "execution_count": 10,
   "metadata": {},
   "outputs": [],
   "source": [
    "#Let us transform the images into tensors for pytroch to work on. \n",
    "\n",
    "import torchvision.transforms as transforms "
   ]
  },
  {
   "cell_type": "code",
   "execution_count": 11,
   "metadata": {},
   "outputs": [],
   "source": [
    "# Now let us convert the training dataset into tensors. \n",
    "\n",
    "dataset = MNIST(root = 'data/', train = True, transform = transforms.ToTensor()) "
   ]
  },
  {
   "cell_type": "code",
   "execution_count": 12,
   "metadata": {},
   "outputs": [
    {
     "name": "stdout",
     "output_type": "stream",
     "text": [
      "torch.Size([1, 28, 28]) 5\n"
     ]
    }
   ],
   "source": [
    "# Let us examine the converted tensor image shape. 1 is color channel (Gray), 2 and 3 is height and width for pixals. \n",
    "\n",
    "img_tensor, label = dataset[0]\n",
    "print(img_tensor.shape, label)"
   ]
  },
  {
   "cell_type": "code",
   "execution_count": 13,
   "metadata": {},
   "outputs": [
    {
     "name": "stdout",
     "output_type": "stream",
     "text": [
      "tensor([[0.0039, 0.6039, 0.9922, 0.3529, 0.0000],\n",
      "        [0.0000, 0.5451, 0.9922, 0.7451, 0.0078],\n",
      "        [0.0000, 0.0431, 0.7451, 0.9922, 0.2745],\n",
      "        [0.0000, 0.0000, 0.1373, 0.9451, 0.8824],\n",
      "        [0.0000, 0.0000, 0.0000, 0.3176, 0.9412]])\n"
     ]
    }
   ],
   "source": [
    "# IF we wanted to locate various high and low values within the image the following code would do that for us. \n",
    "\n",
    "print(img_tensor[0,10:15,10:15])"
   ]
  },
  {
   "cell_type": "code",
   "execution_count": 14,
   "metadata": {},
   "outputs": [
    {
     "data": {
      "text/plain": [
       "<matplotlib.image.AxesImage at 0x1b21167b8c8>"
      ]
     },
     "execution_count": 14,
     "metadata": {},
     "output_type": "execute_result"
    },
    {
     "data": {
      "image/png": "[encoded data removed]",
      "text/plain": [
       "<Figure size 432x288 with 1 Axes>"
      ]
     },
     "metadata": {
      "needs_background": "light"
     },
     "output_type": "display_data"
    }
   ],
   "source": [
    "# Let us now plot the image of the following tensor image cross section.\n",
    "\n",
    "plt.imshow(img_tensor[0,10:15,10:15],cmap='gray')"
   ]
  },
  {
   "cell_type": "code",
   "execution_count": 30,
   "metadata": {},
   "outputs": [
    {
     "data": {
      "text/plain": [
       "(50000, 10000)"
      ]
     },
     "execution_count": 30,
     "metadata": {},
     "output_type": "execute_result"
    }
   ],
   "source": [
    "# Here we will start to create a train, test, and validation set for future model training and testing.\n",
    "\n",
    "from torch.utils.data import random_split\n",
    "\n",
    "train_ds, val_ds = random_split(dataset, [50000,10000])\n",
    "len(train_ds), len(val_ds)\n"
   ]
  },
  {
   "cell_type": "code",
   "execution_count": 31,
   "metadata": {},
   "outputs": [],
   "source": [
    "# Now we will randomize the dataset so we don't get stuck with a bunch of similar numbers for each batch. \n",
    "\n",
    "from torch.utils.data import DataLoader \n",
    "\n",
    "batch_size = 128\n",
    "\n",
    "train_loader = DataLoader(train_ds,batch_size,shuffle = True)\n",
    "val_loader = DataLoader(val_ds,batch_size)"
   ]
  },
  {
   "cell_type": "markdown",
   "metadata": {},
   "source": [
    "### We will use logistic regression for our model. "
   ]
  },
  {
   "cell_type": "code",
   "execution_count": 32,
   "metadata": {},
   "outputs": [],
   "source": [
    "# We need to flatten the image first. Import nn package \n",
    "\n",
    "import torch.nn as nn\n",
    "input_size = 28*28\n",
    "num_classes = 10 \n",
    "\n",
    "Model = nn.Linear(input_size,num_classes)"
   ]
  },
  {
   "cell_type": "code",
   "execution_count": 33,
   "metadata": {},
   "outputs": [
    {
     "name": "stdout",
     "output_type": "stream",
     "text": [
      "torch.Size([10, 784])\n"
     ]
    },
    {
     "data": {
      "text/plain": [
       "Parameter containing:\n",
       "tensor([[ 0.0289,  0.0092, -0.0290,  ...,  0.0354,  0.0036,  0.0070],\n",
       "        [-0.0034,  0.0356,  0.0161,  ...,  0.0143,  0.0099,  0.0253],\n",
       "        [-0.0303, -0.0180, -0.0329,  ...,  0.0353,  0.0262, -0.0142],\n",
       "        ...,\n",
       "        [-0.0315,  0.0093, -0.0222,  ...,  0.0235,  0.0292,  0.0301],\n",
       "        [ 0.0159,  0.0243, -0.0234,  ..., -0.0348, -0.0183, -0.0163],\n",
       "        [-0.0195,  0.0136,  0.0041,  ..., -0.0157, -0.0041, -0.0117]],\n",
       "       requires_grad=True)"
      ]
     },
     "execution_count": 33,
     "metadata": {},
     "output_type": "execute_result"
    }
   ],
   "source": [
    "# Let us look at the weights and bias\n",
    "\n",
    "print(Model.weight.shape)\n",
    "Model.weight"
   ]
  },
  {
   "cell_type": "code",
   "execution_count": 34,
   "metadata": {},
   "outputs": [
    {
     "name": "stdout",
     "output_type": "stream",
     "text": [
      "torch.Size([10])\n"
     ]
    },
    {
     "data": {
      "text/plain": [
       "Parameter containing:\n",
       "tensor([-0.0325,  0.0292,  0.0045, -0.0262, -0.0178, -0.0089, -0.0169,  0.0178,\n",
       "        -0.0188,  0.0221], requires_grad=True)"
      ]
     },
     "execution_count": 34,
     "metadata": {},
     "output_type": "execute_result"
    }
   ],
   "source": [
    "# Let us look at the weights and bias\n",
    "\n",
    "print(Model.bias.shape)\n",
    "Model.bias"
   ]
  },
  {
   "cell_type": "code",
   "execution_count": 41,
   "metadata": {},
   "outputs": [],
   "source": [
    "# Here we will just create a class to flatten out the data for the model to work. \n",
    "\n",
    "class MnistModel(nn.Module):\n",
    "    def __init__(self):\n",
    "        super().__init__()\n",
    "        self.Linear = nn.Linear(input_size,num_classes)\n",
    "        \n",
    "    def forward(self,xb):\n",
    "        xb = xb.reshape(-1, 784)\n",
    "        out = self.Linear(xb)\n",
    "        return out \n",
    "    \n",
    "model = MnistModel()"
   ]
  },
  {
   "cell_type": "code",
   "execution_count": 45,
   "metadata": {},
   "outputs": [
    {
     "data": {
      "text/plain": [
       "Linear(in_features=784, out_features=10, bias=True)"
      ]
     },
     "execution_count": 45,
     "metadata": {},
     "output_type": "execute_result"
    }
   ],
   "source": [
    "model.Linear"
   ]
  },
  {
   "cell_type": "code",
   "execution_count": 48,
   "metadata": {},
   "outputs": [
    {
     "name": "stdout",
     "output_type": "stream",
     "text": [
      "torch.Size([10, 784]) torch.Size([10])\n"
     ]
    },
    {
     "data": {
      "text/plain": [
       "[Parameter containing:\n",
       " tensor([[ 0.0007,  0.0031,  0.0037,  ...,  0.0265, -0.0239,  0.0237],\n",
       "         [-0.0011,  0.0097,  0.0126,  ...,  0.0169, -0.0050, -0.0250],\n",
       "         [ 0.0039, -0.0327, -0.0073,  ..., -0.0340, -0.0197,  0.0052],\n",
       "         ...,\n",
       "         [-0.0066, -0.0180,  0.0145,  ...,  0.0351, -0.0348,  0.0266],\n",
       "         [ 0.0141, -0.0236, -0.0323,  ...,  0.0013,  0.0304,  0.0198],\n",
       "         [ 0.0240, -0.0356,  0.0006,  ...,  0.0350,  0.0180,  0.0353]],\n",
       "        requires_grad=True),\n",
       " Parameter containing:\n",
       " tensor([ 0.0132, -0.0052,  0.0187,  0.0136, -0.0252,  0.0242, -0.0190, -0.0308,\n",
       "         -0.0031, -0.0107], requires_grad=True)]"
      ]
     },
     "execution_count": 48,
     "metadata": {},
     "output_type": "execute_result"
    }
   ],
   "source": [
    "# Now let us print out some information from our created model from the class.\n",
    "\n",
    "print(model.Linear.weight.shape,model.Linear.bias.shape)\n",
    "list(model.parameters())"
   ]
  },
  {
   "cell_type": "code",
   "execution_count": 49,
   "metadata": {},
   "outputs": [
    {
     "name": "stdout",
     "output_type": "stream",
     "text": [
      "output shape : torch.Size([128, 10])\n",
      "sample outputs : \n",
      " : tensor([[ 0.0524,  0.3169,  0.3648,  0.0910, -0.0055, -0.2780,  0.1775, -0.0957,\n",
      "         -0.1245, -0.0408],\n",
      "        [-0.0562,  0.1824,  0.1581,  0.2738, -0.1112, -0.0265,  0.3341, -0.2273,\n",
      "         -0.1517,  0.0331]])\n"
     ]
    }
   ],
   "source": [
    "# Let us use our model now. Print out the first two outputs. \n",
    "\n",
    "for images, labels in train_loader:\n",
    "    outputs = model(images)\n",
    "    break\n",
    "    \n",
    "print('output shape :', outputs.shape)\n",
    "print('sample outputs : \\n :', outputs[:2].data)"
   ]
  }
 ],
 "metadata": {
  "kernelspec": {
   "display_name": "Python 3",
   "language": "python",
   "name": "python3"
  },
  "language_info": {
   "codemirror_mode": {
    "name": "ipython",
    "version": 3
   },
   "file_extension": ".py",
   "mimetype": "text/x-python",
   "name": "python",
   "nbconvert_exporter": "python",
   "pygments_lexer": "ipython3",
   "version": "3.7.6"
  }
 },
 "nbformat": 4,
 "nbformat_minor": 4
}
